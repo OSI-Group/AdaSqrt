{
 "cells": [
  {
   "cell_type": "code",
   "execution_count": 1,
   "metadata": {},
   "outputs": [],
   "source": [
    "### implement the adasqrt architecture in torch \n",
    "import torch \n",
    "from matplotlib import pyplot as plt \n",
    "import numpy as np \n",
    "import pandas as pd \n",
    "from matplotlib import style\n",
    "style.use(\"ggplot\")\n",
    "import warnings \n",
    "warnings.filterwarnings(\"ignore\")"
   ]
  },
  {
   "cell_type": "code",
   "execution_count": 2,
   "metadata": {},
   "outputs": [],
   "source": [
    "#### build the architecture \n",
    "from torchvision import datasets,transforms\n",
    "from torch import nn \n",
    "from torch.nn import functional as F"
   ]
  },
  {
   "cell_type": "code",
   "execution_count": 3,
   "metadata": {},
   "outputs": [],
   "source": [
    "### first model to be built\n",
    "class Mnist_model(nn.Module):\n",
    "    \"\"\"\n",
    "    Arguments:\n",
    "        Takes in the shape of the input data \n",
    "    Operation:\n",
    "        Two hidden layers and one output. \n",
    "    return:\n",
    "        The probabilities of each classes in the data \n",
    "    \"\"\"\n",
    "    def __init__(self,Input=784):\n",
    "        super(Mnist_model,self).__init__()\n",
    "        self.Input = Input\n",
    "        self.fc1 = nn.Linear(in_features=self.Input,out_features=100)\n",
    "        self.relu1 = nn.ReLU()\n",
    "        self.fc2 = nn.Linear(in_features=100,out_features=300)\n",
    "        self.relu2 = nn.ReLU()\n",
    "        self.output = nn.Linear(in_features=300,out_features=10)\n",
    "    def forward(self,X):\n",
    "        ### flattern the images \n",
    "        X = X.view(X.size(0),-1)\n",
    "        X = self.fc1(X)\n",
    "        X = self.relu1(X)\n",
    "        X = self.fc2(X)\n",
    "        X = self.relu2(X)\n",
    "        X = self.output(X)\n",
    "        \n",
    "        ### return value \n",
    "        return X\n",
    "        "
   ]
  },
  {
   "cell_type": "code",
   "execution_count": 4,
   "metadata": {},
   "outputs": [],
   "source": [
    "model = Mnist_model(Input=784)"
   ]
  },
  {
   "cell_type": "code",
   "execution_count": 8,
   "metadata": {},
   "outputs": [
    {
     "data": {
      "text/plain": [
       "111810"
      ]
     },
     "execution_count": 8,
     "metadata": {},
     "output_type": "execute_result"
    }
   ],
   "source": [
    "sum([param.nelement() for param in model.parameters()])"
   ]
  },
  {
   "cell_type": "code",
   "execution_count": null,
   "metadata": {},
   "outputs": [],
   "source": [
    "### CF10 model \n",
    "class Cifar_model(nn.Module):\n",
    "    \"\"\"\n",
    "    Model: The architecture for CIFAR datasets \n",
    "    \n",
    "    ------\n",
    "    Content: \n",
    "        Three convolutional layers and three maxpooling \n",
    "        One fully connected layer \n",
    "    return:\n",
    "        The probabilities under the ten classes.\n",
    "    \"\"\"\n",
    "    def __init__(self):\n",
    "    \"\"\"\n",
    "    Define the layers of the architecture. \n",
    "    \"\"\"\n",
    "        super(Cifar_model,self).__init__()\n",
    "        self.conv1 = nn.Conv2d(in_channels=3,out_channels=32,kernel_size=3) ## (32,30,30)\n",
    "        self.poo1 = nn.MaxPool2d(2) #### (32,15,15)\n",
    "        self.conv2 = nn.Conv2d(in_channels=32,out_channels=64,kernel_size=3) ## (64,13,13)\n",
    "        self.poo12 = nn.MaxPool2d(2)\n",
    "        self.conv3 = nn.Conv2d(in_channels=64,out_channels=128,kernel_size=3)\n",
    "        self.pool3 = nn.MaxPool2d(2)\n",
    "        \n",
    "        self.fc = nn.Linear(in_features=128,out_features=10)\n",
    "    def forward(self,X):\n",
    "        X = self.conv1(X)\n",
    "        X = self.poo1(X)\n",
    "        X = self.Conv2d(X)\n",
    "        X = self.poo12(X)\n",
    "        X = self.conv3(X)\n",
    "        X = self.pool3(X)\n",
    "        X = X.view(-1,128)\n",
    "        X = self.fc(X)\n",
    "        \n",
    "        return X"
   ]
  },
  {
   "cell_type": "code",
   "execution_count": null,
   "metadata": {},
   "outputs": [],
   "source": []
  }
 ],
 "metadata": {
  "kernelspec": {
   "display_name": "Python 3",
   "language": "python",
   "name": "python3"
  },
  "language_info": {
   "codemirror_mode": {
    "name": "ipython",
    "version": 3
   },
   "file_extension": ".py",
   "mimetype": "text/x-python",
   "name": "python",
   "nbconvert_exporter": "python",
   "pygments_lexer": "ipython3",
   "version": "3.7.3"
  }
 },
 "nbformat": 4,
 "nbformat_minor": 2
}
